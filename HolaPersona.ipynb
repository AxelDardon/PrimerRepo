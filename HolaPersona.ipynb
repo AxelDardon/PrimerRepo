{
 "cells": [
  {
   "cell_type": "markdown",
   "metadata": {},
   "source": [
    "# Ejercicios Semana 2\n",
    "## Ejercicio 1: Nombre Persona y Fecha"
   ]
  },
  {
   "cell_type": "code",
   "execution_count": 3,
   "metadata": {},
   "outputs": [
    {
     "name": "stdout",
     "output_type": "stream",
     "text": [
      "Hola un saludo otra prueba en la fecha: 2022-02-03\n"
     ]
    }
   ],
   "source": [
    "from datetime import datetime\n",
    "\n",
    "\n",
    "NombrePersona = input(\"Por favor ingrese su nombre: \")\n",
    "\n",
    "print(\"Hola un saludo\", NombrePersona,\"en la fecha:\",datetime.today().strftime(\"%Y-%m-%d\"))"
   ]
  },
  {
   "cell_type": "markdown",
   "metadata": {},
   "source": [
    "## Ejercicio 2"
   ]
  },
  {
   "cell_type": "code",
   "execution_count": 5,
   "metadata": {},
   "outputs": [
    {
     "name": "stdout",
     "output_type": "stream",
     "text": [
      "3\n",
      "3 3 3\n",
      "9\n",
      "9 3\n",
      "3\n"
     ]
    }
   ],
   "source": [
    "numero=int(input(\"Ingerse su numero:\"))\n",
    "print(numero)\n",
    "a=b=c=numero\n",
    "print(a,b,c)\n",
    "b=b**2\n",
    "print(b)\n",
    "a,b=b,a\n",
    "print(a,b)\n",
    "print(c)\n",
    "del c\n",
    "\n"
   ]
  },
  {
   "cell_type": "markdown",
   "metadata": {},
   "source": [
    "## Ejercicio 3"
   ]
  },
  {
   "cell_type": "code",
   "execution_count": 7,
   "metadata": {},
   "outputs": [
    {
     "name": "stdout",
     "output_type": "stream",
     "text": [
      "{'Nombre': 'AAA', 'Edad': 50, 'fecha nac': '01/01/1970'}\n"
     ]
    }
   ],
   "source": [
    "entero=int(input(\"ingrese un entero:\"))\n",
    "string=input(\"ingrese un string:\")\n",
    "numerofloat=float(input(\"ingrese un numero decimal:\"))\n",
    "\n",
    "print(type(entero))\n",
    "\n",
    "\n",
    "diccionario=dict({\"Nombre\":\"AAA\",\"Edad\":50,\"fecha nac\":\"01/01/1970\"})\n",
    "print(diccionario)"
   ]
  },
  {
   "cell_type": "markdown",
   "metadata": {},
   "source": [
    "## Ejercicio 4"
   ]
  },
  {
   "cell_type": "code",
   "execution_count": null,
   "metadata": {},
   "outputs": [],
   "source": [
    "from math import sqrt as raizcuadrada\n",
    "#import pandas as pd\n",
    "num=int(input(\"Ingrese un decimal\"))\n",
    "print(raizcuadrada(num))"
   ]
  },
  {
   "cell_type": "markdown",
   "metadata": {},
   "source": [
    "## Ejercicio 5: Funcion"
   ]
  },
  {
   "cell_type": "code",
   "execution_count": 10,
   "metadata": {},
   "outputs": [
    {
     "name": "stdout",
     "output_type": "stream",
     "text": [
      "Suma: 3\n",
      "resta: -1\n",
      "Multiplicacion: 2\n",
      "Division 0.5\n"
     ]
    }
   ],
   "source": [
    "num1,num2=input(\"ingrese dos numeros separados por coma:\").split(\",\")\n",
    "num1=int(num1)\n",
    "num2=int(num2)\n",
    "def OperacionesMatematicas(num1,num2):\n",
    "    print(\"Suma:\",(num1+num2))\n",
    "    print(\"resta:\",(num1-num2))\n",
    "    print(\"Multiplicacion:\",(num1*num2))\n",
    "    print(\"Division\",(num1/num2))\n",
    "    \n",
    "OperacionesMatematicas(num1,num2)"
   ]
  },
  {
   "cell_type": "markdown",
   "metadata": {},
   "source": [
    "# Tarea Clase \n",
    "## Parte 1: WebBrowser"
   ]
  },
  {
   "cell_type": "code",
   "execution_count": 41,
   "metadata": {},
   "outputs": [],
   "source": [
    "import webbrowser\n",
    "def GetHomwork(SemanaN):\n",
    "    LaSemana = \"Semana\" + SemanaN\n",
    "    response = webbrowser.open_new(\"https://fpmir.azurewebsites.net/api/AZFMIR?AZFNUM=\"+LaSemana)\n",
    "\n",
    "QueSemana = str(input(\"Ingrese el número de semana: \"))\n",
    "GetHomwork(QueSemana)"
   ]
  },
  {
   "cell_type": "markdown",
   "metadata": {},
   "source": [
    "# Tarea Clase \n",
    "## Parte 2: JSON y Requests"
   ]
  },
  {
   "cell_type": "code",
   "execution_count": 39,
   "metadata": {},
   "outputs": [
    {
     "name": "stdout",
     "output_type": "stream",
     "text": [
      "Archivo exitosamente creado:  C:\\\\Users\\\\Axel Dardon\\\\Desktop\\\\CursosURL\\\\Clase2.json\n"
     ]
    }
   ],
   "source": [
    "import json\n",
    "import requests\n",
    "def GetHomwork(SemanaN,FilePath):\n",
    "    LaSemana = \"Semana\" + SemanaN\n",
    "    response = requests.get(\"https://fpmir.azurewebsites.net/api/AZFMIR?AZFNUM=\"+LaSemana).text\n",
    "    response_info = json.loads(response)\n",
    "    out_file = open(FilePath,\"w\")\n",
    "    json.dump(response_info, out_file, indent = 6)\n",
    "    out_file.close()\n",
    "    print(\"Archivo exitosamente creado: \",FilePath)\n",
    "\n",
    "QueSemana = str(input(\"Ingrese el número de semana: \"))\n",
    "QuePath = str(input(\"Ingrese el archivo en formato C:\\\\Path\\\\NombreArchivo.json (recordar utilizar doble diagonal para cada directorio\"))\n",
    "GetHomwork(QueSemana,QuePath)\n"
   ]
  },
  {
   "cell_type": "markdown",
   "metadata": {},
   "source": []
  },
  {
   "cell_type": "code",
   "execution_count": null,
   "metadata": {},
   "outputs": [],
   "source": []
  },
  {
   "cell_type": "markdown",
   "metadata": {},
   "source": []
  }
 ],
 "metadata": {
  "interpreter": {
   "hash": "d6d26c4a8cda67e52767f479a94914ecbf8860f1cd77e1ec7bc49812f9677b27"
  },
  "kernelspec": {
   "display_name": "Python 3.10.2 64-bit",
   "language": "python",
   "name": "python3"
  },
  "language_info": {
   "codemirror_mode": {
    "name": "ipython",
    "version": 3
   },
   "file_extension": ".py",
   "mimetype": "text/x-python",
   "name": "python",
   "nbconvert_exporter": "python",
   "pygments_lexer": "ipython3",
   "version": "3.10.2"
  },
  "orig_nbformat": 4
 },
 "nbformat": 4,
 "nbformat_minor": 2
}
